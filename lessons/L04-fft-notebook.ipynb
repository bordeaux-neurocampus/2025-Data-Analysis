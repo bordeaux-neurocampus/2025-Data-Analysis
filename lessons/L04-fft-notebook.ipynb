{
 "cells": [
  {
   "cell_type": "markdown",
   "id": "nu6BOgkbgbto",
   "metadata": {
    "id": "nu6BOgkbgbto"
   },
   "source": [
    "## Correlation\n",
    "\n",
    "Correlation and convolution are very much alike. The following figure from [Convolution | Wikipedia](https://en.wikipedia.org/wiki/Convolution) demonstrates what happens when we convolve two signals and how that can be contrasted to calculating the cross-correlation between them.\n",
    "\n",
    "<img style=\"float: center;\" src=\"https://upload.wikimedia.org/wikipedia/commons/thumb/2/21/Comparison_convolution_correlation.svg/400px-Comparison_convolution_correlation.svg.png\">\n"
   ]
  },
  {
   "cell_type": "markdown",
   "id": "d351d17c",
   "metadata": {
    "id": "d351d17c"
   },
   "source": [
    "## Auto-correlation\n",
    "\n",
    "For this part of the tutorial, we will calculate the auto-correlation of a (random) signal. Let's start by creating the random signal and visualizing it."
   ]
  },
  {
   "cell_type": "code",
   "execution_count": null,
   "id": "d6bccf1b",
   "metadata": {
    "id": "d6bccf1b"
   },
   "outputs": [],
   "source": [
    "# Auto-correlation, step #1: create a signal\n",
    "import numpy as np\n",
    "import matplotlib.pyplot as plt\n",
    "\n",
    "X = range(0,300)\n",
    "# Y = (np.zeros(100),np.ones(100))\n",
    "\n",
    "Y = np.zeros(300)\n",
    "Y[100:200] = 1\n",
    "#Y = np.sin(X)\n",
    "Y += np.random.uniform(-1,1,len(X))*1.5 # Try to play with level of noise\n",
    "\n",
    "plt.figure(figsize=(10,3))\n",
    "plt.plot(X,Y);"
   ]
  },
  {
   "cell_type": "markdown",
   "id": "ebac1905",
   "metadata": {
    "id": "ebac1905"
   },
   "source": [
    "Great! Now that we have a signal to play with, we will use the built-in _correlate_ function from the module NumPy to calculate the correlation of the signal Y with itself."
   ]
  },
  {
   "cell_type": "code",
   "execution_count": null,
   "id": "ec9893bf",
   "metadata": {
    "id": "ec9893bf"
   },
   "outputs": [],
   "source": [
    "# Calculate auto-correlation of Y\n",
    "C = np.correlate(Y, Y, mode='same')\n",
    "plt.figure(figsize=(10,3))\n",
    "plt.plot(X,C)"
   ]
  },
  {
   "cell_type": "markdown",
   "id": "cd7e6b37",
   "metadata": {
    "id": "cd7e6b37"
   },
   "source": [
    "The above gives us some insight into how the auto-correlation of a signal looks like. But to understand the algorithm in depth, let's make a new signal, one that is deterministic and much simpler.\n",
    "\n",
    "### Example : Step function without noise."
   ]
  },
  {
   "cell_type": "code",
   "execution_count": null,
   "id": "jh9WVC23WTvQ",
   "metadata": {
    "id": "jh9WVC23WTvQ"
   },
   "outputs": [],
   "source": [
    "X = range(0,300)\n",
    "# Y = (np.zeros(100),np.ones(100))\n",
    "\n",
    "Y = np.zeros(300)\n",
    "Y[100:200] = 1\n",
    "#Y = np.sin(X)\n",
    "# Y += np.random.uniform(-1,1,len(X))*1.5 # Without noise\n",
    "\n",
    "plt.figure(figsize=(10,3))\n",
    "plt.plot(X,Y);"
   ]
  },
  {
   "cell_type": "code",
   "execution_count": null,
   "id": "J_AKMRZ6WVEo",
   "metadata": {
    "id": "J_AKMRZ6WVEo"
   },
   "outputs": [],
   "source": [
    "# Calculate auto-correlation of Y\n",
    "C = np.correlate(Y, Y, mode='same')\n",
    "plt.figure(figsize=(10,3))\n",
    "plt.plot(X,C)"
   ]
  },
  {
   "cell_type": "markdown",
   "id": "IyORXx8PW2ms",
   "metadata": {
    "id": "IyORXx8PW2ms"
   },
   "source": [
    "Sinusoidal wave with noise"
   ]
  },
  {
   "cell_type": "code",
   "execution_count": null,
   "id": "51dPxyKiWfDy",
   "metadata": {
    "colab": {
     "base_uri": "https://localhost:8080/",
     "height": 211
    },
    "id": "51dPxyKiWfDy",
    "outputId": "f0150511-8db5-4c0b-a7a5-34820a3bf30d"
   },
   "outputs": [],
   "source": [
    "import numpy as np\n",
    "import matplotlib.pyplot as plt\n",
    "X = np.linspace(-1,1,300)\n",
    "\n",
    "Y = np.sin(np.pi*X)# try a sinusoidal function\n",
    "Y += np.random.uniform(-1,1,len(X)) #add noise to it \n",
    "\n",
    "plt.figure(figsize=(10,3))\n",
    "plt.plot(X,Y);"
   ]
  },
  {
   "cell_type": "code",
   "execution_count": null,
   "id": "eP_StAF6Wmz9",
   "metadata": {
    "colab": {
     "base_uri": "https://localhost:8080/",
     "height": 228
    },
    "id": "eP_StAF6Wmz9",
    "outputId": "e55e78c5-f5d6-412f-9404-fe72ca017438"
   },
   "outputs": [],
   "source": [
    "# Calculate auto-correlation of Y\n",
    "C = np.correlate(Y,Y, mode = 'same') #autocorrelation\n",
    "plt.figure(figsize=(10,3))\n",
    "plt.plot(X,C)\n",
    "#plot the autocorrelation"
   ]
  },
  {
   "cell_type": "markdown",
   "id": "1c7953f4",
   "metadata": {
    "id": "1c7953f4"
   },
   "source": [
    "This looks much better! What can you see? Is this what you expected to see?"
   ]
  },
  {
   "cell_type": "markdown",
   "id": "4dfbfa2d",
   "metadata": {
    "id": "4dfbfa2d"
   },
   "source": [
    "### Fourier Transform\n",
    "\n",
    "Next, we will see the Fourier Transform and some of its applications in signal processing.\n",
    "\n",
    "\n",
    "#### Formal definition\n",
    "\n",
    "\n",
    "The Fourier transform can be defined for signals which are\n",
    "\n",
    "* discrete or continuous in time, and\n",
    "* finite or infinite in duration.\n",
    "\n",
    "\n",
    "This results in four cases. As you might expect, the frequency domain has the same cases:\n",
    "\n",
    "* discrete or continuous in frequency, and\n",
    "* finite or infinite in bandwidth.\n",
    "\n",
    "When time is discrete, the frequency axis is finite, and vice versa. The four cases of the Fourier transform are listed below:\n",
    "\n",
    "<img style=\"float: center;\" src=\"https://www.dsprelated.com/josimages_new/sasp2/img88.png\">\n",
    "\n",
    "In all four cases, the Fourier transform can be interpreted as the inner product of the signal $ x$ with a complex sinusoid at radian frequency $ \\omega$, denoted as $ s_\\omega$. The sinusoid is appropriately adapted for each case:\n",
    "\n",
    "\n",
    "<img style=\"float: center;\" src=\"https://www.dsprelated.com/josimages_new/sasp2/img92.png\">\n",
    "\n",
    "#### Implementations\n",
    "\n",
    "The DFT transforms N discrete-time samples to the same number of discrete frequency samples, and is defined as:\n",
    "\n",
    "$$\n",
    "X(k)=\\sum_{n=0}^{N−1}x[n]e^{−i \\frac{2 \\pi n k}{N}}\n",
    "$$\n",
    "\n",
    "The discrete Fourier transform (DFT) is the primary transform used for numerical computation in digital signal processing. It is very widely used for spectrum analysis, fast convolution, and many other applications. It can be computed using the [fast Fourier transform (FFT) | Wikipedia](https://en.wikipedia.org/wiki/Fast_Fourier_transform) algorithm in a very efficient manner. You can also read more information about the implementation of the FFT on the [documentation page of scipy](https://docs.scipy.org/doc/scipy/tutorial/fft.html).\n",
    "\n",
    "Let's go through some examples of the properties and applications of the FFT."
   ]
  },
  {
   "cell_type": "code",
   "execution_count": null,
   "id": "b7a8134a",
   "metadata": {
    "id": "b7a8134a"
   },
   "outputs": [],
   "source": [
    "# Example 1: addition of multiple cosines of different frequencies and amplitudes\n",
    "\n",
    "# importing fft libraries from scipy\n",
    "from scipy.fft import fft,fftfreq\n",
    "\n",
    "# initialization\n",
    "fs = 500 # sampling frequency, Hz\n",
    "dt = 1/fs # sampling interval, seconds\n",
    "T = 1 # duration, seconds\n",
    "tv = np.linspace(0,T,T*fs+1) # time vector\n",
    "\n",
    "# cosine parameters\n",
    "A = np.arange(1,6)[::-1] # amplitudes\n",
    "f = 10*np.arange(1,6) # frequencies\n",
    "\n",
    "# creating the signals\n",
    "y = np.zeros((len(f),len(tv)))\n",
    "for ii in np.arange(0,5):\n",
    "    y[ii] = A[ii]*np.cos(2*np.pi*f[ii]*tv)  #5 cos signals with a different amplitude & different frequency\n",
    "    \n",
    "y_sum = np.sum(y,axis=0) #summing the 5 signals up\n",
    "\n",
    "# calculation of the FFT\n",
    "N = 200 # number of FFT points (length of signal)\n",
    "Y = fft(y_sum,N) #1-D discrete Fourier Transform\n",
    "fv = fftfreq(N, dt)[:N//2] # make the frequency vector"
   ]
  },
  {
   "cell_type": "code",
   "execution_count": null,
   "id": "b259bbc3",
   "metadata": {
    "colab": {
     "base_uri": "https://localhost:8080/",
     "height": 629
    },
    "id": "b259bbc3",
    "outputId": "56ef0ed7-46bf-45ee-9233-531b759be532"
   },
   "outputs": [],
   "source": [
    "# Let's plot our results\n",
    "def plot_results(tv, y_sum, Y):\n",
    "  plt.figure(figsize=(16,10))\n",
    "\n",
    "  plt.subplot(211)\n",
    "  plt.plot(tv,y_sum) #plotting the sum across time\n",
    "  plt.title('Addition of multiple cosines')\n",
    "  plt.xlabel('Time (s)')\n",
    "  plt.ylabel('y[n]')\n",
    "  plt.grid()\n",
    "\n",
    "  plt.subplot(212)\n",
    "  plt.stem(fv[:24], 2.0/N * np.abs(Y[:24])) \n",
    "  plt.title('FFT of y[n]')\n",
    "  plt.xlabel('frequency (Hz)')\n",
    "  plt.ylabel('Y[k]')\n",
    "  plt.grid()\n",
    "\n",
    "  plt.show()\n",
    "plot_results(tv, y_sum, Y)"
   ]
  },
  {
   "cell_type": "markdown",
   "id": "b612d790",
   "metadata": {
    "id": "b612d790"
   },
   "source": [
    "### Property \\#1: Linearity\n",
    "\n",
    "This property of the Fourier Transform states that:\n",
    "\n",
    "$$\n",
    "    \\alpha x_1[n] + \\beta x_2[n] \\buildrel {DFT} \\over \\longleftrightarrow \\alpha X_1[k] + \\beta X_2[k]\n",
    "$$\n",
    "\n",
    "Let's see this in practice with an example:"
   ]
  },
  {
   "cell_type": "code",
   "execution_count": null,
   "id": "3f0d2f7d",
   "metadata": {
    "colab": {
     "base_uri": "https://localhost:8080/",
     "height": 645
    },
    "id": "3f0d2f7d",
    "outputId": "5b847682-e3ba-464b-b3d2-2da3269d705a"
   },
   "outputs": [],
   "source": [
    "# Property: Linearity of the FFT\n",
    "\n",
    "# calculation of the FFT for components 1:2\n",
    "N = 200 # number of FFT points (length of signal)\n",
    "Y1 = fft(y[0],N)\n",
    "Y2 = fft(y[1],N)\n",
    "fv = fftfreq(N, dt)[:N//2] # make the frequency vector\n",
    "\n",
    "# Let's plot our results\n",
    "# What do you expect to see?\n",
    "def plot_2signals_FFT(y = y, Y1 = Y1, Y2 = Y2, fv = fv, N = N):\n",
    "  plt.figure(figsize=(16,10))\n",
    "\n",
    "  plt.subplot(211)\n",
    "  plt.plot(tv,np.sum(y[0:2],axis=0))\n",
    "  plt.title('Addition of two cosines')\n",
    "  plt.xlabel('Time (s)')\n",
    "  plt.ylabel('$y_1[n]+y_2[n]$')\n",
    "  plt.grid()\n",
    "\n",
    "  plt.subplot(212)\n",
    "  (markerLines, _, baseLines) = plt.stem(fv[:24], 2.0/N * np.abs(Y1[:24]),linefmt='b:',markerfmt='bo',label='$Y_1(f)$')\n",
    "  plt.setp(markerLines, markerfacecolor='none', markeredgecolor='blue', markersize = 12)\n",
    "  plt.setp(baseLines,linestyle='none')\n",
    "\n",
    "  (markerLines, _, baseLines) = plt.stem(fv[:24], 2.0/N * np.abs(Y2[:24]),linefmt='r:',markerfmt='ro',label='$Y_2(f)$')\n",
    "  plt.setp(markerLines, markerfacecolor='none', markeredgecolor='red', markersize = 12)\n",
    "  plt.setp(baseLines,linestyle='none')\n",
    "\n",
    "  (markerLines, _, baseLines) = plt.stem(fv[:24], 2.0/N * np.abs(Y1[:24]+Y2[:24]),linefmt='k--',markerfmt='k.',label='$Y_1(f)+Y_2(f)$')\n",
    "  plt.setp(baseLines,linestyle='none')\n",
    "\n",
    "  plt.title('Addition of FFTs')\n",
    "  plt.xlabel('frequency (Hz)')\n",
    "  plt.ylabel('$Y_1[k] + Y_2[k]$')\n",
    "  plt.grid()\n",
    "  plt.legend()\n",
    "\n",
    "  plt.show()\n",
    "plot_2signals_FFT()"
   ]
  },
  {
   "cell_type": "markdown",
   "id": "c56ff78c",
   "metadata": {
    "id": "c56ff78c"
   },
   "source": [
    "### Property \\#2: Convolution in time domain\n",
    "\n",
    "This property of the Fourier Transform states that convolution in the time domain is equal to multiplication in the frequency domain:\n",
    "\n",
    "$$\n",
    "    f[n]*g[n] \\buildrel {DFT} \\over \\longleftrightarrow F[k]G[k]\n",
    "$$\n",
    "\n",
    "Similarly, convolution in the frequency domain is equivalent to multiplication in the time domain.\n",
    "\n",
    "$$\n",
    "    F[k]*G[k] \\buildrel {iDFT} \\over \\longleftrightarrow f[n]g[n]\n",
    "$$\n",
    "\n",
    "Let's see this in practice with an example:"
   ]
  },
  {
   "cell_type": "code",
   "execution_count": null,
   "id": "958f3e44",
   "metadata": {
    "colab": {
     "base_uri": "https://localhost:8080/",
     "height": 265
    },
    "id": "958f3e44",
    "outputId": "5db1b7f7-ca1e-4f6b-fcdb-0458eda3ef5e"
   },
   "outputs": [],
   "source": [
    "# Duration of the time window over which to smooth the signal\n",
    "twin = 0.025\n",
    "trange = int(twin*fs)\n",
    "\n",
    "# Standard deviation of the gaussian\n",
    "sigma = trange/4\n",
    "\n",
    "# Actual temporal window over which to compute the Gaussian\n",
    "window = np.arange(-trange//2,trange//2)\n",
    "\n",
    "# Gaussian function over window and standard deviation sigma\n",
    "gaussian = np.exp(-(window/sigma)**2)\n",
    "\n",
    "# Plot the Gaussian \n",
    "plt.plot(window/fs, gaussian);"
   ]
  },
  {
   "cell_type": "code",
   "execution_count": null,
   "id": "e5f714db",
   "metadata": {
    "colab": {
     "base_uri": "https://localhost:8080/",
     "height": 555
    },
    "id": "e5f714db",
    "outputId": "64892036-8582-425b-a591-2d1bd0fa9e5d"
   },
   "outputs": [],
   "source": [
    "# Convolve the Gaussian window with the added sine waves\n",
    "fr1 = np.convolve(y_sum, gaussian, mode='same')\n",
    "N=500\n",
    "fv = fftfreq(N, dt)[:N//2] # make the frequency vector\n",
    "\n",
    "# Calculate the FFT of the complex convolved result\n",
    "FR1 = fft(fr1,N)\n",
    "\n",
    "# Calculate the FFT of the complete y signal\n",
    "Y = fft(y_sum,N)\n",
    "\n",
    "# Calculate the FFT of the Gaussian window\n",
    "G = fft(gaussian,N)\n",
    "\n",
    "# Plot the results\n",
    "def plot_conv_fft(y_sum = y_sum, tv = tv, fr1 = fr1):\n",
    "  plt.figure(figsize=(16,10))\n",
    "  plt.subplot(311)\n",
    "  plt.plot(tv, y_sum, color='blue',label='y') # cosines\n",
    "  plt.plot(tv, fr1, color='red', linestyle='--', linewidth=1,label='y*g') # convolution result\n",
    "  plt.xlabel('Time (s)')\n",
    "  plt.ylabel('$y_{c} * g$')\n",
    "  plt.legend()\n",
    "  plt.grid()\n",
    "\n",
    "  plt.subplot(312)\n",
    "  plt.plot(fv, np.abs(Y[:N//2])/max(np.abs(Y)), label='Y[k]')\n",
    "  plt.plot(fv, np.abs(G[:N//2])/max(np.abs(G)), 'r--', label='G[k]')\n",
    "  plt.xlim([0,100])\n",
    "  plt.legend()\n",
    "  plt.grid()\n",
    "\n",
    "  plt.subplot(313)\n",
    "  plt.plot(fv, np.abs(FR1[:N//2]), label='$FFT\\{y*g\\}$')\n",
    "  plt.plot(fv, np.abs(G[:N//2]*Y[:N//2]), 'r:', label='Y[k]*G[k]')\n",
    "  plt.xlim([0,100])\n",
    "  plt.xlabel('Frequency (Hz)')\n",
    "  plt.legend()\n",
    "  plt.grid()\n",
    "\n",
    "\n",
    "  plt.show()\n",
    "plot_conv_fft()"
   ]
  },
  {
   "cell_type": "markdown",
   "id": "bd1b3c24",
   "metadata": {
    "id": "bd1b3c24"
   },
   "source": [
    "For more information on the properties of the DFT, you can look [here](https://cnx.org/contents/qAa9OhlP@2.44:AePPYjup@5/DFT-Definition-and-Properties)"
   ]
  },
  {
   "cell_type": "markdown",
   "id": "lsgPjkgCZh9A",
   "metadata": {
    "id": "lsgPjkgCZh9A"
   },
   "source": [
    "# Filtering Signals\n",
    "\n",
    "In this notebook, you will get more familiar with filtering data. In the first part, we will go over some examples of creating signals, combining them, and then applying filters to separate the components.\n",
    "\n",
    "## Filter Types\n",
    "\n",
    "Filters are separated into two types: lowpass and highpass. The distinction is based on which frequency band the filters tend to keep. Lowpass filters allow frequencies lower than the cutt-off frequency to pass through, whereas highpass filters perform the opposite operation by allowing frequencies higher than the cut-off frequency and cutting off lower frequencies.\n",
    "\n",
    "If you want to read more about filter design in analog and digital domains, I highly encourage you to read the free ebook provided here:\n",
    "\n",
    "[DSPRelated.com - Introduction to Digital Filters](https://www.dsprelated.com/freebooks/filters/)"
   ]
  },
  {
   "cell_type": "code",
   "execution_count": null,
   "id": "VMS6LWpkZib6",
   "metadata": {
    "id": "VMS6LWpkZib6"
   },
   "outputs": [],
   "source": [
    "# Importing useful libraries:\n",
    "# NumPy for calculations\n",
    "# SciPy for filtering operations\n",
    "# Matplotlib for plotting\n",
    "import numpy as np\n",
    "import scipy.signal as sig\n",
    "import matplotlib.pyplot as plt"
   ]
  },
  {
   "cell_type": "code",
   "execution_count": null,
   "id": "ZVGF_9RQZl2k",
   "metadata": {
    "colab": {
     "base_uri": "https://localhost:8080/",
     "height": 560
    },
    "id": "ZVGF_9RQZl2k",
    "outputId": "30a68b47-c07d-4a8f-b38a-07007e43ee27"
   },
   "outputs": [],
   "source": [
    "# Let's make some signals, sampled at 1000Hz\n",
    "fs = 1000    # sampling frequency\n",
    "dt = 1/fs    # sampling interval\n",
    "T  = 1       # duration of 1 second\n",
    "t  = np.linspace(0,1,fs) # time vector\n",
    "\n",
    "# signal #1 is a sine wave of f1 = 10 Hz and phase of 0 rad\n",
    "alpha1=0.5\n",
    "f1 = 10\n",
    "phi1 = 0\n",
    "x1 = alpha1*np.sin(2*np.pi*f1*t + phi1)\n",
    "\n",
    "# signal #2 is a sine wave of f2 = 25 Hz and phase of pi/4 rad\n",
    "alpha2 = 0.8\n",
    "f2 = 25\n",
    "phi2 = np.pi/4\n",
    "x2 = alpha2*np.sin(2*np.pi*f2*t + phi2)\n",
    "\n",
    "# signal #3 is a sine wave of f3 = 100 Hz and phase of 3pi/2 rad\n",
    "alpha3=0.69\n",
    "f3 = 100\n",
    "phi3 = 3*np.pi/2\n",
    "x3 = alpha3*np.sin(2*np.pi*f3*t + phi3)\n",
    "\n",
    "# signal y is the superposition of all 3 signals\n",
    "y = x1+x2+x3\n",
    "\n",
    "# And let's plot the signals\n",
    "def plot_signals():\n",
    "  plt.figure(num=1,figsize=[16,10])\n",
    "  plt.subplot(411)\n",
    "  plt.plot(t,x1,color='blue')\n",
    "  plt.xlim([0,1])\n",
    "  plt.ylim([-1,1])\n",
    "  plt.ylabel('X1')\n",
    "  plt.subplot(412)\n",
    "  plt.plot(t,x2,color='green')\n",
    "  plt.xlim([0,1])\n",
    "  plt.ylim([-1,1])\n",
    "  plt.ylabel('X2')\n",
    "  plt.subplot(413)\n",
    "  plt.plot(t,x3,color='red')\n",
    "  plt.xlim([0,1])\n",
    "  plt.ylim([-1,1])\n",
    "  plt.ylabel('X3')\n",
    "  plt.subplot(414)\n",
    "  plt.plot(t,y,color='magenta')\n",
    "  plt.xlim([0,1])\n",
    "  plt.ylabel('X1+X2+X3')\n",
    "  plt.xlabel('Time (s)')\n",
    "  plt.show()\n",
    "plot_signals()"
   ]
  },
  {
   "cell_type": "markdown",
   "id": "olthL4EAZr3e",
   "metadata": {
    "id": "olthL4EAZr3e"
   },
   "source": [
    "The magenta signal is the superposition of all three signals. As you can see, this signal is erratic and you can't really see the different components that comprise the full signal easily. What we can do, is perform a spectral analysis! So let's plot the FFT of the combined signal.\n",
    "\n",
    "For more information on the FFT, see the SciPy documentation [here](https://docs.scipy.org/doc/scipy/reference/tutorial/fft.html#discrete-sine-transforms)."
   ]
  },
  {
   "cell_type": "code",
   "execution_count": null,
   "id": "QN_btKBnZuEA",
   "metadata": {
    "colab": {
     "base_uri": "https://localhost:8080/",
     "height": 446
    },
    "id": "QN_btKBnZuEA",
    "outputId": "b062b25c-5d7a-462a-9b7c-b46255840e1a"
   },
   "outputs": [],
   "source": [
    "from scipy.fft import fft,fftfreq\n",
    "\n",
    "N = len(y) # number of FFT points (length of signal)\n",
    "\n",
    "Y = fft(y) # calculate the FFT\n",
    "fv = fftfreq(N, dt)[:N//2] # make the frequency vector\n",
    "\n",
    "plt.figure(num=4,figsize=[8,7])\n",
    "plt.plot(fv, 2.0/N * np.abs(Y[0:N//2]))\n",
    "plt.xlim([0,150])\n",
    "plt.ylim([0,1])\n",
    "plt.xlabel('Frequency (Hz)')\n",
    "plt.ylabel('|Y(f)|')\n",
    "plt.grid()\n",
    "plt.show()"
   ]
  },
  {
   "cell_type": "markdown",
   "id": "dnfnujUxZ2Pp",
   "metadata": {
    "id": "dnfnujUxZ2Pp"
   },
   "source": [
    "Here we go, three distinct peaks, centered at the frequencies of the individual components, with their respective amplitudes. So we can tell that our combined signal $y(t)=x_1(t)+x_2(t)+x_3(t)$ has three frequency components at the frequencies 10, 20, and 100 Hz, with amplitudes of 0.5, 0.8, and 0.69 respectively."
   ]
  },
  {
   "cell_type": "markdown",
   "id": "4T52vdEPZ8E7",
   "metadata": {
    "id": "4T52vdEPZ8E7"
   },
   "source": [
    "## Filtering the signal\n",
    "\n",
    "In this section, we will use the SciPy module's function _butter()_ to make our filters. If you would like to learn more about the process, the documentation is provided [here](https://docs.scipy.org/doc/scipy/reference/generated/scipy.signal.butter.html).\n"
   ]
  },
  {
   "cell_type": "code",
   "execution_count": null,
   "id": "CdxShsaSz5M9",
   "metadata": {
    "id": "CdxShsaSz5M9"
   },
   "outputs": [],
   "source": [
    "# Let's define a function for low-pass filtering using a digital Butterworth filter\n",
    "def butter_lowpass(cutoff, fs, order=5):\n",
    "    fnyq = 0.5 * fs\n",
    "    normal_cutoff = cutoff / fnyq\n",
    "    b, a = sig.butter(order, normal_cutoff, btype='low', output='ba', fs=2, analog=False)\n",
    "    return b, a\n",
    "\n",
    "# And a second function for high-pass filtering\n",
    "def butter_highpass(cutoff, fs, order=5):\n",
    "    fnyq = 0.5 * fs\n",
    "    normal_cutoff = cutoff / fnyq\n",
    "    b, a = sig.butter(order, normal_cutoff, btype='high', output='ba', fs=2, analog=False)\n",
    "    return b, a\n",
    "\n",
    "# This function filters the input data and returns the filtered sequence\n",
    "def butter_filter(data, cutoff, fs, order=5, filtype=''):\n",
    "    if filtype.lower()=='lowpass':\n",
    "        b, a = butter_lowpass(cutoff, fs, order=order)\n",
    "    elif filtype.lower()=='highpass':\n",
    "        b, a = butter_highpass(cutoff, fs, order=order)        \n",
    "        \n",
    "    y = sig.filtfilt(b, a, data)\n",
    "    return y\n"
   ]
  },
  {
   "cell_type": "markdown",
   "id": "vmvQc8vi0Dhg",
   "metadata": {
    "id": "vmvQc8vi0Dhg"
   },
   "source": [
    "\n",
    "\n",
    "### Lowpass filtering\n",
    "\n",
    "Now that we've identified the three frequency components of our signal $y(t)$, let's make a filter to cut the 100 Hz frequency out. We will use the following functions:\n"
   ]
  },
  {
   "cell_type": "code",
   "execution_count": null,
   "id": "AInorI6xaKsa",
   "metadata": {
    "colab": {
     "base_uri": "https://localhost:8080/",
     "height": 471
    },
    "id": "AInorI6xaKsa",
    "outputId": "8ae67271-7abd-4df5-8d22-c5586c19547f"
   },
   "outputs": [],
   "source": [
    "# Make a low-pass filter\n",
    "order = 6\n",
    "fc = 40  # desired cutoff frequency of the filter, Hz\n",
    "\n",
    "# Get the filter coefficients so we can check its frequency response.\n",
    "b,a = butter_lowpass(fc, fs, order) #Numerator (b) and denominator (a) polynomials of the IIR filter. \n",
    "\n",
    "# Plot the frequency response.\n",
    "w, h = sig.freqz(b, a, worN=8000)\n",
    "plt.figure(figsize=(16,8))\n",
    "plt.subplot(311)\n",
    "plt.plot(0.5*fs*w/np.pi, np.abs(h), 'b')\n",
    "plt.plot(fc, 0.5*np.sqrt(2), 'ko')\n",
    "plt.axvline(fc, color='k')\n",
    "plt.xlim(0, 0.5*fs)\n",
    "plt.title(\"Lowpass Filter Frequency Response\")\n",
    "plt.xlabel('Frequency [Hz]')\n",
    "plt.grid()\n",
    "\n",
    "# Filter the data, and plot both the original and filtered signals.\n",
    "yf = butter_filter(y, fc, fs, order, 'lowpass')\n",
    "\n",
    "plt.subplot(312)\n",
    "plt.plot(t, y, 'b-', label='data')\n",
    "plt.plot(t, yf, 'r-', linewidth=2, label='filtered data')\n",
    "plt.xlabel('Time [sec]')\n",
    "plt.xlim([0,1])\n",
    "plt.grid()\n",
    "plt.legend()\n",
    "\n",
    "# Let's calculate the FFT of the filtered signal and plot the frequency components\n",
    "N = len(yf) # number of FFT points (length of signal)\n",
    "\n",
    "Yf = fft(yf) # calculate the FFT\n",
    "fv = fftfreq(N, dt)[:N//2] # make the frequency vector\n",
    "\n",
    "plt.subplot(313)\n",
    "plt.plot(fv, 2.0/N * np.abs(Yf[0:N//2]))\n",
    "plt.xlim([0,150])\n",
    "plt.ylim([0,1])\n",
    "plt.xlabel('Frequency (Hz)')\n",
    "plt.ylabel('|Y(f)|')\n",
    "plt.grid()\n",
    "\n",
    "plt.subplots_adjust(hspace=0.75)\n",
    "plt.show()"
   ]
  },
  {
   "cell_type": "markdown",
   "id": "OInGTWcaaUI9",
   "metadata": {
    "id": "OInGTWcaaUI9"
   },
   "source": [
    "The first figure shows the frequency response of the $6^{th}$ order lowpass Butterworth filter. At 100Hz, the filter completely attenuates the unwanted frequency, as shown in the third figure. The middle panel shows the comparison of the unfiltered signal (in <span style=\"color:blue\">blue</span>) while the filtered version is shown in <span style=\"color:red\">red</span>.\n"
   ]
  },
  {
   "cell_type": "markdown",
   "id": "7ZRsh0jZ3WJg",
   "metadata": {
    "id": "7ZRsh0jZ3WJg"
   },
   "source": [
    "### Highpass filtering\n",
    "\n",
    "Let's do the opposite: let's remove all frequencies _below_ 100 Hz. As an exercise, fill in the missing code in the cell below:"
   ]
  },
  {
   "cell_type": "code",
   "execution_count": null,
   "id": "5un6mXN80Xzd",
   "metadata": {
    "id": "5un6mXN80Xzd",
    "scrolled": true
   },
   "outputs": [],
   "source": [
    "# Make a high-pass filter\n",
    "order = 6\n",
    "fc = 40  # desired cutoff frequency of the filter, Hz\n",
    "\n",
    "# Get the filter coefficients so we can check its frequency response.\n",
    "b,a = ...#FILL IN; butter_lowpass(fc, fs, order)\n",
    "\n",
    "# Plot the frequency response.\n",
    "w, h = ... #FILL IN;  sig.freqz(b, a, worN=8000)\n",
    "\n",
    "plt.figure(figsize=(16,8))\n",
    "plt.subplot(311)\n",
    "plt.plot(0.5*fs*w/np.pi, np.abs(h), 'b')\n",
    "plt.plot(fc, 0.5*np.sqrt(2), 'ko')\n",
    "plt.axvline(fc, color='k')\n",
    "plt.xlim(0, 0.5*fs)\n",
    "plt.title(\"Lowpass Filter Frequency Response\")\n",
    "plt.xlabel('Frequency [Hz]')\n",
    "plt.grid()\n",
    "\n",
    "# Filter the data, and plot both the original and filtered signals.\n",
    "yf = ... #FILL IN butter_filter(y, fc, fs, order, 'lowpass')\n",
    "\n",
    "plt.subplot(312)\n",
    "plt.plot(t, y, 'b-', label='data')\n",
    "plt.plot(t, yf, 'r-', linewidth=2, label='filtered data')\n",
    "plt.xlabel('Time [sec]')\n",
    "plt.xlim([0,1])\n",
    "plt.grid()\n",
    "plt.legend()\n",
    "\n",
    "# Let's calculate the FFT of the filtered signal and plot the frequency components\n",
    "N = len(yf) # number of FFT points (length of signal)\n",
    "\n",
    "Yf = ... #FILL IN calculate the FFT; fft(yf)\n",
    "fv = ... #FILL IN make the frequency vector; fftfreq(N, dt)[:N//2] \n",
    "\n",
    "plt.subplot(313)\n",
    "plt.plot(fv, 2.0/N * np.abs(Yf[0:N//2]))\n",
    "plt.xlim([0,150])\n",
    "plt.ylim([0,1])\n",
    "plt.xlabel('Frequency (Hz)')\n",
    "plt.ylabel('|Y(f)|')\n",
    "plt.grid()\n",
    "\n",
    "plt.subplots_adjust(hspace=0.75)\n",
    "plt.show()"
   ]
  },
  {
   "cell_type": "markdown",
   "id": "BmBOQ9-G4NWU",
   "metadata": {
    "id": "BmBOQ9-G4NWU"
   },
   "source": [
    "\n",
    "## What can you say about the filtered signal? \n",
    "\n",
    "## Describe the frequency spectrum.\n",
    "\n",
    "## Is it what you expected and why ?\n",
    "\n"
   ]
  }
 ],
 "metadata": {
  "colab": {
   "collapsed_sections": [],
   "provenance": []
  },
  "kernelspec": {
   "display_name": "Python 3 (ipykernel)",
   "language": "python",
   "name": "python3"
  },
  "language_info": {
   "codemirror_mode": {
    "name": "ipython",
    "version": 3
   },
   "file_extension": ".py",
   "mimetype": "text/x-python",
   "name": "python",
   "nbconvert_exporter": "python",
   "pygments_lexer": "ipython3",
   "version": "3.7.12"
  }
 },
 "nbformat": 4,
 "nbformat_minor": 5
}
