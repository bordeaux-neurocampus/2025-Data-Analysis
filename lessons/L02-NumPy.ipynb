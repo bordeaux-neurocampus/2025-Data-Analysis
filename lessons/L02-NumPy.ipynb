{
 "cells": [
  {
   "cell_type": "markdown",
   "metadata": {},
   "source": [
    "# Programming for Data Analysis - NumPy"
   ]
  },
  {
   "cell_type": "markdown",
   "metadata": {},
   "source": [
    "## **Introduction to numerical computing**\n",
    "\n",
    "NumPy is a Python library for creating and manipulating numerical data.\n",
    "NumPy provides a high-performance multidimensional array object, and tools for working with these arrays. \\\n",
    "References and detailed documentation can be found: https://numpy.org/doc/."
   ]
  },
  {
   "cell_type": "code",
   "execution_count": null,
   "metadata": {},
   "outputs": [],
   "source": [
    "# Importing the library\n",
    "import numpy as np\n",
    "\n",
    "# we use the 'as' keyword to give an alias to our library name: we can now simply write 'np' instead of 'numpy'.\n",
    "# you can technically use any alias you want, but the most popular libraries have conventions: numpy is usually np."
   ]
  },
  {
   "cell_type": "markdown",
   "metadata": {},
   "source": [
    "<a id=\"1darrays\" ></a>\n",
    "## 1D arrays"
   ]
  },
  {
   "cell_type": "code",
   "execution_count": null,
   "metadata": {},
   "outputs": [],
   "source": [
    "# Creating an array:\n",
    "a = np.array([12,34,56,78,90])\n",
    "print(a)"
   ]
  },
  {
   "cell_type": "code",
   "execution_count": null,
   "metadata": {},
   "outputs": [],
   "source": [
    "# We can check some properties of our array\n",
    "print(\"The number of dimensions:\", a.ndim)\n",
    "print(\"The shape of the array:\", a.shape )\n",
    "print(\"The length of the array:\", len(a) )"
   ]
  },
  {
   "cell_type": "code",
   "execution_count": null,
   "metadata": {},
   "outputs": [],
   "source": [
    "# Like with the lists, we can look at specific elements in the array\n",
    "\n",
    "print(a[0])         # first element of the array: remember we count from zero!\n",
    "print(a[-1])        # last element of the array: we can count backwards\n",
    "print(a[3:])        # from the second element to the last\n",
    "print(a[::2])       # from first to last, but only every other two"
   ]
  },
  {
   "cell_type": "code",
   "execution_count": null,
   "metadata": {},
   "outputs": [],
   "source": [
    "# Changing elements in the array\n",
    "a[0] = 100\n",
    "print(\"The array after modification is:\", a)"
   ]
  },
  {
   "cell_type": "markdown",
   "metadata": {},
   "source": [
    "**Basic mathematical operations**\n",
    "\n",
    "We can perform simple operations between a 1D array (vector) and a scalar."
   ]
  },
  {
   "cell_type": "code",
   "execution_count": null,
   "metadata": {},
   "outputs": [],
   "source": [
    "b = np.array([1,2,3,4,5,6,7])\n",
    "print(\"The original array:\", b)\n",
    "\n",
    "print(\"Addition:\", b+10)\n",
    "print(\"Subtraction:\", b-3)\n",
    "print(\"Multiplication:\", b*2)\n",
    "print(\"Division:\", b/5)"
   ]
  },
  {
   "cell_type": "markdown",
   "metadata": {},
   "source": [
    "We can also perform operations between arrays."
   ]
  },
  {
   "cell_type": "code",
   "execution_count": null,
   "metadata": {},
   "outputs": [],
   "source": [
    "a = np.array([1,2,3])\n",
    "b = np.array([7,8,9])\n",
    "print(\"The arrays are:\", a, \"and\", b)\n",
    "\n",
    "print(\"Addition:\", a+b)\n",
    "print(\"Subtraction:\", a-b)\n",
    "print(\"Multiplication:\", a*b)"
   ]
  },
  {
   "cell_type": "markdown",
   "metadata": {},
   "source": [
    "**Special operations functions**\n",
    "\n",
    "NumPy has shortcuts for the most common operations:\n",
    "\n",
    "- _np.linalg.norm()_:  calculating the norm of an array\n",
    "- _np.dot()_:  dot product of two arrays."
   ]
  },
  {
   "cell_type": "code",
   "execution_count": null,
   "metadata": {},
   "outputs": [],
   "source": [
    "# Norm of an array\n",
    "a_norm = np.linalg.norm(a)\n",
    "print(\"The norm of array\", a, \"is\", a_norm)\n",
    "\n",
    "\n",
    "# Dot product (or inner product) of two arrays:\n",
    "a_b_product = np.dot(a,b)\n",
    "print(\"The dot product of\", a, \"and\", b, \"is\", a_b_product)"
   ]
  },
  {
   "cell_type": "code",
   "execution_count": null,
   "metadata": {},
   "outputs": [],
   "source": [
    "# What happens if you try to perform operations on arrays of different sizes?\n",
    "\n",
    "c = [1,2,3,4,5,6,7]\n",
    "print(b+c)"
   ]
  },
  {
   "cell_type": "markdown",
   "metadata": {},
   "source": [
    "### Exercises\n",
    "\n",
    "1. Use numpy to calculate the norm of the following vectors (from Exercise 2, slide 19):\n",
    "\n",
    "- $a=\\begin{pmatrix}3&-1\\end{pmatrix}$\n",
    "- $b=\\begin{pmatrix}4&3&2\\end{pmatrix}$\n",
    "- $c=\\begin{pmatrix}1&2&-1&3&1\\end{pmatrix}$\n",
    "\n",
    "2. Use numpy to calculate the dot product of these two arrays (from Exercise 3, slide 33):\n",
    "\n",
    "    $\\begin{pmatrix}1&2&-3\\end{pmatrix} \\begin{pmatrix}4\\cr-5\\cr6\\cr\\end{pmatrix}$\n"
   ]
  },
  {
   "cell_type": "markdown",
   "metadata": {},
   "source": [
    " <a id=\"multi\" ></a>\n",
    "## Multidimensional Arrays\n",
    "\n",
    "Multidimensional arrays work mostly like 1D arrays, but the greater number of dimensions requires to be more careful when manipulating the data."
   ]
  },
  {
   "cell_type": "code",
   "execution_count": null,
   "metadata": {},
   "outputs": [],
   "source": [
    "# 2D arrays\n",
    "A = np.array([[1,2,3],[4,5,6]])\n",
    "print(A)"
   ]
  },
  {
   "cell_type": "code",
   "execution_count": null,
   "metadata": {},
   "outputs": [],
   "source": [
    "# General size properties\n",
    "print(\"The number of dimensions:\", A.ndim)\n",
    "print(\"The shape of the array:\", A.shape)"
   ]
  },
  {
   "cell_type": "code",
   "execution_count": null,
   "metadata": {},
   "outputs": [],
   "source": [
    "# Indexing\n",
    "## For 2D arrays, remember it's always [row, column].\n",
    "print(\"The first column:\", A[:,0])\n",
    "print(\"The second row:\", A[1,:]) \n",
    "print(\"The element in the last row and second column:\", A[-1,1])"
   ]
  },
  {
   "cell_type": "markdown",
   "metadata": {},
   "source": [
    "**Basic matrix operations**"
   ]
  },
  {
   "cell_type": "code",
   "execution_count": null,
   "metadata": {},
   "outputs": [],
   "source": [
    "# Addition, subtraction, multiplication or division by a scalar work just like for 1D arrays:\n",
    "print(A+2)\n",
    "print(A*10)"
   ]
  },
  {
   "cell_type": "code",
   "execution_count": null,
   "metadata": {},
   "outputs": [],
   "source": [
    "# You can add, subtract, multiply or divide 2D arrays together if they are the same shape\n",
    "\n",
    "B = np.array([[10,20,30],[40,50,60]])\n",
    "print(\"A:\", A)\n",
    "print(\"B:\", B)\n",
    "\n",
    "print(A+B)\n",
    "print(A*B) #etc."
   ]
  },
  {
   "cell_type": "markdown",
   "metadata": {},
   "source": [
    "**Specific operations functions**"
   ]
  },
  {
   "cell_type": "code",
   "execution_count": null,
   "metadata": {},
   "outputs": [],
   "source": [
    "#Transpose of a matrix\n",
    "print(A.T)"
   ]
  },
  {
   "cell_type": "code",
   "execution_count": null,
   "metadata": {},
   "outputs": [],
   "source": [
    "# Matrix and vector product: same function as before\n",
    "A = np.array([[1,2,3],[4,5,6]])\n",
    "x = np.array([2,-1,1])\n",
    "\n",
    "print(A)\n",
    "print(x)\n",
    "\n",
    "print(np.dot(A,x))"
   ]
  },
  {
   "cell_type": "code",
   "execution_count": null,
   "metadata": {},
   "outputs": [],
   "source": [
    "# Matrix and matrix product\n",
    "A = np.array([[1,2,3],[4,5,6]])\n",
    "B = np.array([[2,-3],[1, 0], [9,-5]])\n",
    "\n",
    "print(\"A\")\n",
    "print(A)\n",
    "print(\"B\")\n",
    "print(B)\n",
    "\n",
    "print(\"A.B\")\n",
    "print(np.dot(A,B))\n",
    "\n",
    "print(\"B.A\")\n",
    "print(np.dot(B,A))"
   ]
  },
  {
   "cell_type": "markdown",
   "metadata": {},
   "source": [
    "### Exercises\n",
    "\n",
    "4. Use NumPy to perform these matrix products (from Exercise 4, slide 64).\n",
    "\n",
    "$a) \\begin{bmatrix}1&3\\cr0&2\\end{bmatrix} \\begin{bmatrix}-1\\cr2\\end{bmatrix}$\n",
    "\n",
    "$b) \\begin{bmatrix}-2&1\\cr1&2\\end{bmatrix} \\begin{bmatrix}1\\cr3\\end{bmatrix}$\n",
    "\n",
    "$c) \\begin{bmatrix}0&2\\cr-1&1\\end{bmatrix} \\begin{bmatrix}3\\cr1\\end{bmatrix}$\n",
    "\n",
    "$d) (\\begin{bmatrix}1&3\\cr-0&2\\end{bmatrix}+\\begin{bmatrix}-2&1\\cr-1&2\\end{bmatrix}) \\begin{bmatrix}3\\cr1\\end{bmatrix}$\n",
    "\n",
    "5. Use NumPy to calculate all the possible products among the following matrices (from Exercise 5, slide 64):\n",
    "\n",
    "$A=\\begin{bmatrix}1&2&3\\end{bmatrix}$\n",
    "\n",
    "$B=\\begin{bmatrix}1\\cr2\\end{bmatrix}$\n",
    "\n",
    "$C=\\begin{bmatrix}2&1\\cr-3&0\\cr1&2\\end{bmatrix}$\n",
    "\n",
    "$D=\\begin{bmatrix}-2&5\\cr5&0\\end{bmatrix}$\n",
    "\n",
    "$E=\\begin{bmatrix}-1&1&3\\cr-1&-4&0\\cr0&2&5\\end{bmatrix}$"
   ]
  },
  {
   "cell_type": "markdown",
   "metadata": {},
   "source": [
    "## Creating arrays\n",
    "\n",
    "So far we were creating all our arrays manually by giving lists of lists to the np.array() function. Let's take a look at some numpy functions to generate some specific arrays.\n",
    "\n",
    "**_Main functions for creating arrays_** \n",
    "* np.arange(), np.linspace()\n",
    "* np.ones(), np.zeros(), np.full(), np.eye(), np.diag()\n",
    "* np.random.rand(), np.random.randn()"
   ]
  },
  {
   "cell_type": "code",
   "execution_count": null,
   "metadata": {},
   "outputs": [],
   "source": [
    "# Create arrays of ordered and equally spaced values: np.arange() and np.linspace()\n",
    "a = np.arange(1, 11, 2)      # start, end (exclusive), step\n",
    "print(a)\n",
    "\n",
    "b = np.linspace(0, 1, 6)   # start, end (inclusive), number of values\n",
    "print(b)\n",
    "c = np.linspace(0, 1, 5, endpoint=False) #values are spaced like b but the last one is excluded\n",
    "print(c)"
   ]
  },
  {
   "cell_type": "code",
   "execution_count": null,
   "metadata": {},
   "outputs": [],
   "source": [
    "a = np.zeros((3, 3)) #array of zeros with a defined shape (3,3)\n",
    "print(a, \"Shape of array:\", a.shape)\n",
    "\n",
    "b = np.ones((2, 2))  #array of ones with a defined shape (2,2)\n",
    "print(b, \"Shape of array:\", b.shape)\n",
    "\n",
    "c = np.full((2,2), 7) #array of (2,2) of 7s \n",
    "print(c, \"Shape of array:\", c.shape)"
   ]
  },
  {
   "cell_type": "code",
   "execution_count": null,
   "metadata": {},
   "outputs": [],
   "source": [
    "d_ = np.eye(3) #identity matrix of size 3, diagonal is filled with 1, zeroes elsewhere\n",
    "print(d_,\"Shape of array:\", d_.shape)\n",
    "\n",
    "e_ = np.diag(np.array([1, 2, 3, 4])) #diagonal is equal to the elements of the array, zeroes elsewhere\n",
    "print(e_,\"Shape of array:\", e_.shape)\n",
    "\n",
    "# notice that because we give an array of integers, the zeroes are also integers now\n",
    "# we can specify the data type of an array using the dtype parameter:\n",
    "\n",
    "e_ = np.diag(np.array([1, 2, 3, 4], dtype=float))\n",
    "print(e_)"
   ]
  },
  {
   "cell_type": "code",
   "execution_count": null,
   "metadata": {},
   "outputs": [],
   "source": [
    "a = np.random.rand(6)      # 10 random floats between [0, 1)\n",
    "print(a)\n",
    "\n",
    "b = np.random.randn(5)    # 5 random floats from a normal distribution (mean=0, sd=1)\n",
    "print(b)"
   ]
  },
  {
   "cell_type": "markdown",
   "metadata": {},
   "source": [
    "## Loading and saving data files\n",
    "\n",
    "Creating arrays is fun and useful, but when it comes to data analysis you rarely input your data by hand into Python. What we do instead is import files which contain the data you want to analyze."
   ]
  },
  {
   "cell_type": "code",
   "execution_count": null,
   "metadata": {},
   "outputs": [],
   "source": [
    "my_data = np.random.rand(10,2)\n",
    "print(my_data)\n",
    "\n",
    "# saving as numpy file: easy to import again with numpy\n",
    "np.save('my_data.npy', my_data)\n",
    "\n",
    "# saving as text file: can be opened with text editor, excel, etc.\n",
    "np.savetxt('my_data.txt', my_data)\n",
    "np.savetxt('my_data.csv', my_data, delimiter=';')\n",
    "\n",
    "# by default, files will be saved in the same directory as the jupyter notebook"
   ]
  },
  {
   "cell_type": "code",
   "execution_count": null,
   "metadata": {},
   "outputs": [],
   "source": [
    "imported_data = np.load('my_data.npy')\n",
    "print(imported_data)\n",
    "\n",
    "#same for text files using np.loadtxt\n",
    "imported_data2 = np.loadtxt('my_data.csv', delimiter=\";\")\n",
    "print(imported_data2)\n",
    "\n",
    "# by default, numpy looks for the file in the same directory as the notebook"
   ]
  },
  {
   "cell_type": "markdown",
   "metadata": {},
   "source": [
    "## Some more useful operations\n",
    "\n",
    "\n",
    "**Basic statistics**"
   ]
  },
  {
   "cell_type": "code",
   "execution_count": null,
   "metadata": {},
   "outputs": [],
   "source": [
    "data = np.array([7,2,8,10,14,16,3,18,12,6])\n",
    "\n",
    "print(\"The mean:\", data.mean())           # you can also use np.mean(data)\n",
    "print(\"The median:\", np.median(data))\n",
    "print(\"The standard deviation:\", np.std(data))\n",
    "\n",
    "print(\"The sum of all the elements:\", data.sum()) # you can also use np.sum(data)\n",
    "print(\"The product of all the elements:\", data.prod()) # you can also use np.prod(data)\n",
    "\n",
    "print(\"The maximum value:\", data.max())\n",
    "print(\"The minimum value:\", data.min())\n",
    "print(\"The index of the maximum value:\", data.argmax())\n",
    "print(\"The index of the minimum value:\", data.argmin())\n"
   ]
  },
  {
   "cell_type": "markdown",
   "metadata": {},
   "source": [
    "**Combining arrays together**\n",
    "\n",
    "While easy when working with 1D arrays, multidimensional arrays require to be careful with the shape"
   ]
  },
  {
   "cell_type": "code",
   "execution_count": null,
   "metadata": {},
   "outputs": [],
   "source": [
    "# Create two 1D arrays\n",
    "a = np.array([1,2,3])\n",
    "b = np.array([4,5,6])\n",
    "\n",
    "# Combining the two arrays into one long array:\n",
    "a_then_b = np.concatenate((a,b))\n",
    "print(\"Concatenation of\", a, \"and\", b, \"is\", a_then_b)\n",
    "\n",
    "# Stacking the two arrays into a matrix with two rows:\n",
    "AB = np.array([a,b])\n",
    "print(AB, \": arrays stacked into a 2D array\")\n",
    "\n",
    "# Reshaping one long 1D array into an array with more dimensions\n",
    "c = np.array([1,2,3,4,5,6,7,8,9,10,11,12])\n",
    "new_c = c.reshape((3,4))\n",
    "print(new_c, \": reshaped array\")"
   ]
  },
  {
   "cell_type": "markdown",
   "metadata": {},
   "source": [
    "**Logical tests**"
   ]
  },
  {
   "cell_type": "code",
   "execution_count": null,
   "metadata": {},
   "outputs": [],
   "source": [
    "# Comparing elements of two arrays (must be same shape)\n",
    "a = np.arange(3)\n",
    "b = np.ones(3)\n",
    "print(\"a:\",a)\n",
    "print(\"b:\",b)\n",
    "print(\"Equal?\", a == b)\n",
    "print(\"a<b?\", a < b)"
   ]
  },
  {
   "cell_type": "code",
   "execution_count": null,
   "metadata": {},
   "outputs": [],
   "source": [
    "# Testing each element of one array: np.where()\n",
    "## you will find this function is very handy in many situations!\n",
    "\n",
    "a = np.array([1,-5,3,-2,-8,6,3])\n",
    "where_negative = np.where(a<0)  #finds elements of the array that pass the test\n",
    "print(\"Indexes of elements of a that are <0:\", where_negative[0])\n",
    "\n",
    "edit_negative = np.where(a<0, 100, a)  # where the test is True, replace by 100, otherwise don't change\n",
    "print(edit_negative)"
   ]
  }
 ],
 "metadata": {
  "kernelspec": {
   "display_name": "Python 3",
   "language": "python",
   "name": "python3"
  },
  "language_info": {
   "codemirror_mode": {
    "name": "ipython",
    "version": 3
   },
   "file_extension": ".py",
   "mimetype": "text/x-python",
   "name": "python",
   "nbconvert_exporter": "python",
   "pygments_lexer": "ipython3",
   "version": "3.11.9"
  }
 },
 "nbformat": 4,
 "nbformat_minor": 2
}
