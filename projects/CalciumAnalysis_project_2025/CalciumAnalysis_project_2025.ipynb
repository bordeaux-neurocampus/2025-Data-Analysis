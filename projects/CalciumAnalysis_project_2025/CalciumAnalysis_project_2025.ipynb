{
 "cells": [
  {
   "cell_type": "markdown",
   "id": "51a60abf",
   "metadata": {},
   "source": [
    "## Calcium Analysis project\n",
    "\n",
    "*Tutor: Elena Nicollin*\n",
    "\n",
    "In this project, you will **analyze calcium imaging data recorded in a freely roaming mouse**.\n",
    "\n",
    "The goal of this project is to obtain a visual representation of the **activities of cells** recorded in the *CA1 layer of the hippocampus*, as a function of the **position of the mouse** in an open field.\n",
    "\n"
   ]
  },
  {
   "cell_type": "code",
   "execution_count": null,
   "id": "9938c06d",
   "metadata": {},
   "outputs": [],
   "source": [
    "# Import the python libraries to have all functions needed\n",
    "import numpy as np\n",
    "import matplotlib.pyplot as plt\n",
    "import pandas as pd     # this library handles dataframes, is just used to load the data\n",
    "import scipy.signal as signal\n",
    "\n",
    "# Load the data\n",
    "CaData = np.array(pd.read_csv(\"OF1_2025_traces.csv\", header = None))\n",
    "SpatialData = np.array(pd.read_csv(\"OF1_2025_positions.csv\", header = None))\n",
    "ScopeFrames = np.array(pd.read_csv(\"OF1_2025_MiniscopeFrames.csv\", header = None))[:,0]\n",
    "CamFrames = np.array(pd.read_csv(\"OF1_2025_CameraFrames.csv\", header = None))[:,0]"
   ]
  },
  {
   "cell_type": "markdown",
   "id": "34207a3c",
   "metadata": {},
   "source": [
    "The 4 datasets loaded are:\n",
    "- **CaData**: The preprocessed data from the calcium imaging. Values are the average calcium fluorescence intensity, for each neuron, at each time frame recorded with the calcium miniscope.\n",
    "- **SpatialData**: The x and y coordinates of the mouse in the open field, at each time frame recorded with the camera. Unit is millimeters.\n",
    "- **ScopeFrames**: Time points of the frames recorded with the calcium miniscope. Unit is seconds.\n",
    "- **CamFrames**: Time points of the frames recorded with the camera. Unit is seconds.\n",
    "\n",
    "### Overview of the datasets"
   ]
  },
  {
   "cell_type": "code",
   "execution_count": 44,
   "id": "cd6a6e95",
   "metadata": {},
   "outputs": [],
   "source": [
    "# Show the first 5 lines of the calcium imaging data\n",
    "\n",
    "# Show the first 5 lines of the position data\n",
    "\n",
    "# Show the first 5 lines of the miniscope frames data \n",
    "\n",
    "# Show the first 5 lines of the camera frames data \n"
   ]
  },
  {
   "cell_type": "code",
   "execution_count": 45,
   "id": "b7491ac7",
   "metadata": {},
   "outputs": [],
   "source": [
    "# Get the number of rows and columns of each dataset.\n",
    "\n"
   ]
  },
  {
   "cell_type": "markdown",
   "id": "84b0079b",
   "metadata": {},
   "source": [
    "### Spatial data"
   ]
  },
  {
   "cell_type": "code",
   "execution_count": 46,
   "id": "40ef03f0",
   "metadata": {},
   "outputs": [],
   "source": [
    "# From the SpatialData dataset, figure out the dimensions of the open field\n",
    "\n"
   ]
  },
  {
   "cell_type": "code",
   "execution_count": 47,
   "id": "13c55b94",
   "metadata": {},
   "outputs": [],
   "source": [
    "# Visualize the trajectory of the mouse in the open field over the entire recording\n",
    "\n"
   ]
  },
  {
   "cell_type": "markdown",
   "id": "9a2b823b",
   "metadata": {},
   "source": [
    "### Calcium data"
   ]
  },
  {
   "cell_type": "code",
   "execution_count": null,
   "id": "60656082",
   "metadata": {},
   "outputs": [],
   "source": [
    "# How many neurons are there?\n",
    "# Visualize the calcium recording of one neuron of your choice\n",
    "\n"
   ]
  },
  {
   "cell_type": "code",
   "execution_count": null,
   "id": "cb375ccc",
   "metadata": {},
   "outputs": [],
   "source": [
    "# Zoom in on the signal to clearly display a single calcium event\n",
    "\n"
   ]
  },
  {
   "cell_type": "markdown",
   "id": "875c01e0",
   "metadata": {},
   "source": [
    "The calcium fluorescence signal is an indirect readout of cellular activity. We therefore need to process it to obtain a signal closer to the real neuronal activity.\n",
    "\n",
    "As you can see on the isolated event above, a single calcium event has a fast rise and a slow decay. We will ignore the fast rise for simplicity, and attempt to correct the slow decay in order to obtain a more narrow event, similar to a single neuron spike. To do this, we will perform a **deconvolution**.\n",
    "\n",
    "\n",
    "<img style=\"float: center;\" width=\"720\" src=\"https://i.imgur.com/uKWFXDU.png\">"
   ]
  },
  {
   "cell_type": "code",
   "execution_count": null,
   "id": "521ca363",
   "metadata": {},
   "outputs": [],
   "source": [
    "# Select a calcium event that you think represents one single spike from the neuron.\n",
    "# Isolate this event so that it begins exactly at the peak.\n",
    "# Save this event as its own short array, and visualize it. It should look like a decreasing exponential\n",
    "\n"
   ]
  },
  {
   "cell_type": "code",
   "execution_count": 50,
   "id": "4e5d233f",
   "metadata": {},
   "outputs": [],
   "source": [
    "# Fit an exponential function to your event signal.\n",
    "\n",
    "\n",
    "\n",
    "\n",
    "# To verify, you can visualize your event and the fitted curve on one plot.\n"
   ]
  },
  {
   "cell_type": "code",
   "execution_count": null,
   "id": "ccd9a055",
   "metadata": {},
   "outputs": [],
   "source": [
    "# Normalize the fitted curve such that its total sum is equal to 1\n",
    "\n"
   ]
  },
  {
   "cell_type": "code",
   "execution_count": null,
   "id": "cd0e45ef",
   "metadata": {},
   "outputs": [],
   "source": [
    "# Use this normalized curve to deconvolve the calcium signal of each neuron, using the deconvolve function from scipy.\n",
    "\n"
   ]
  },
  {
   "cell_type": "code",
   "execution_count": null,
   "id": "f8438fce",
   "metadata": {},
   "outputs": [],
   "source": [
    "# Deconvolution reduces the length of a signal. How much shorter are your new calcium signals? Crop the end of the ScopeFrames data accordingly.\n",
    "\n"
   ]
  },
  {
   "cell_type": "code",
   "execution_count": null,
   "id": "432719e0",
   "metadata": {},
   "outputs": [],
   "source": [
    "# Visualize the original signal and the deconvolved signal of one neuron. Make sure you can still clearly see the activity peaks.\n",
    "\n"
   ]
  },
  {
   "cell_type": "code",
   "execution_count": 54,
   "id": "6367e42c",
   "metadata": {},
   "outputs": [],
   "source": [
    "# This signal still has some noisy artifacts. Process the deconvolved data such that all data points below the threshold of your choice are set to zero.\n",
    "\n",
    "\n"
   ]
  },
  {
   "cell_type": "code",
   "execution_count": 55,
   "id": "c009c5cb",
   "metadata": {},
   "outputs": [],
   "source": [
    "# Visualize the noiseless data of one neuron\n",
    "\n",
    "\n"
   ]
  },
  {
   "cell_type": "markdown",
   "id": "f3ecfd6a",
   "metadata": {},
   "source": [
    "### Aligning the spatial data and the calcium data\n",
    "\n",
    "We know that the spatial data was recorded by a camera, while the calcium data was recorded with a miniscipe. Consequently, the two datasets must be realigned.\n",
    "\n",
    "To remind you, *ScopeFrames* contains the times of the frames recorded with the miniscope, while *CamFrames* contains the times of the camera frames."
   ]
  },
  {
   "cell_type": "code",
   "execution_count": 56,
   "id": "59919681",
   "metadata": {},
   "outputs": [],
   "source": [
    "# Get the time of the first frames of each dataset. Which recording was started first, miniscope or camera? \n",
    "\n",
    "\n",
    "\n",
    "# Do the same with the last frames recorded. Which recording was stopped first?\n",
    "\n"
   ]
  },
  {
   "cell_type": "code",
   "execution_count": 57,
   "id": "538ecd3d",
   "metadata": {},
   "outputs": [],
   "source": [
    "# Calculate the frame interval of the miniscope, and the frame interval of the camera.\n",
    "\n"
   ]
  },
  {
   "cell_type": "code",
   "execution_count": null,
   "id": "dc63d220",
   "metadata": {},
   "outputs": [],
   "source": [
    "# Based on the results from the two above cells, which recording should you use as the reference to align the frames?\n",
    "# Create a numpy array filled with zeros, of a size equal to the number of frames from your reference recording.\n",
    "\n",
    "\n",
    "\n",
    "\n",
    "# For each of your reference frames, get the index of the non-reference frame that's the closest, storing it in your new array.\n",
    "\n",
    "\n"
   ]
  },
  {
   "cell_type": "code",
   "execution_count": null,
   "id": "6c404b15",
   "metadata": {},
   "outputs": [],
   "source": [
    "# You now have an array referencing which data points to keep from your data.\n",
    "# You will store these data points in a new 2D array.\n",
    "# Initialize this 2D array filled with zeros. How many rows and columns should it have?\n",
    "\n",
    "\n",
    "\n",
    "# At each row in your new 2D array, save the corresponding row of your original dataset, using the array of indexes you obtained in the previous cell.\n",
    "\n"
   ]
  },
  {
   "cell_type": "code",
   "execution_count": null,
   "id": "7fba6d8b",
   "metadata": {},
   "outputs": [],
   "source": [
    "# You can now visualize your new data to ensure you didn't lose any major information\n",
    "\n",
    "\n"
   ]
  },
  {
   "cell_type": "code",
   "execution_count": 61,
   "id": "6573bd07",
   "metadata": {},
   "outputs": [],
   "source": [
    "# If this alignment was successful, you should now have the same number of data points in your spatial data and in your calcium data.\n",
    "# Get the number of rows and columns of each to make sure\n",
    "\n"
   ]
  },
  {
   "cell_type": "markdown",
   "id": "de5dc273",
   "metadata": {},
   "source": [
    "### Spatial representation of the neuronal activities\n",
    "\n",
    "Lastly, we will use the matplotlib.pyplot function [`imshow`](https://matplotlib.org/stable/api/_as_gen/matplotlib.pyplot.imshow.html) to visualize the average neuronal activity of a neuron per area.\n",
    "\n",
    "To do so, we must first construct a 2D matrix that will contain these values of average neuronal activities. Let's do this first for just one neuron."
   ]
  },
  {
   "cell_type": "code",
   "execution_count": null,
   "id": "e87d3e76",
   "metadata": {},
   "outputs": [],
   "source": [
    "# Let's start by extracting the mean activity of neuron 0 when the mouse is situated in the bottom left corner of the open field (x<35 and y<35)\n",
    "neuron_index = 0\n",
    "x_max = 35\n",
    "y_max = 35\n",
    "\n",
    "# Get the indices of the rows from your spatial data where the mouse x coordinate is < x_max and the y coordinate is < y_max\n",
    "\n",
    "\n",
    "# Use these index values to extract the activity of your neuron at these same time points, and compute the average activity.\n"
   ]
  },
  {
   "cell_type": "code",
   "execution_count": null,
   "id": "41aca5f4",
   "metadata": {},
   "outputs": [],
   "source": [
    "# We need to repeat the process for the rest of the open field, which must be sliced into a grid. Keep squares of size 35 for now.\n",
    "\n",
    "# Knowing the size of the field, create an array of the x grid values, and an array of the y grid values.\n",
    "\n",
    "\n",
    "\n",
    "# Create an empty 2D matrix with the same dimension as your grid: this 2D-array will store the average calcium activities.\n",
    "\n",
    "\n",
    "\n",
    "# 1. To go over each square in the grid, we will need two loops: one loop for the x values; and another one for the y values, inside the first loop\n",
    "# 2. For each square in the grid, the mouse must not only be <xmax and <ymax, but also >xmin and >ymin. In your inner loop, get the four values bordering your square (xmax, ymax, xmin, ymin).\n",
    "# 3. Lastly, for each square in the grid, extract the index values of the spatial data when the mouse is in the correct space, and use these to compute the average activity of the neuron\n",
    "# 4. Save that value in your 2D matrix. How can you keep track of where to save each value in this 2D array?\n",
    "\n",
    "\n"
   ]
  },
  {
   "cell_type": "code",
   "execution_count": null,
   "id": "afdc089f",
   "metadata": {},
   "outputs": [],
   "source": [
    "# Plot the result using the plt.imshow() function\n",
    "\n",
    "plt.imshow()\n",
    "plt.title('neuron index ' + str(neuron_index) )\n",
    "plt.colorbar()\n",
    "plt.axis('off')\n",
    "plt.show()"
   ]
  },
  {
   "cell_type": "code",
   "execution_count": null,
   "id": "c6389511",
   "metadata": {},
   "outputs": [],
   "source": [
    "# You can now add another outer loop to repeat the process for each neuron.\n",
    "\n"
   ]
  },
  {
   "cell_type": "code",
   "execution_count": null,
   "id": "698dfef1",
   "metadata": {},
   "outputs": [],
   "source": [
    "# Try playing with the size of the grid squares. What happens if they're too small? Too large?\n",
    "# You can also check that your representation is correct by giving your grid squares different sizes along the x and y (helps to visually tell them apart)."
   ]
  }
 ],
 "metadata": {
  "kernelspec": {
   "display_name": "Python 3",
   "language": "python",
   "name": "python3"
  },
  "language_info": {
   "codemirror_mode": {
    "name": "ipython",
    "version": 3
   },
   "file_extension": ".py",
   "mimetype": "text/x-python",
   "name": "python",
   "nbconvert_exporter": "python",
   "pygments_lexer": "ipython3",
   "version": "3.11.9"
  }
 },
 "nbformat": 4,
 "nbformat_minor": 5
}
