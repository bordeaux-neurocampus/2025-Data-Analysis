{
 "cells": [
  {
   "cell_type": "markdown",
   "id": "b0292f32",
   "metadata": {},
   "source": [
    "### Electrophysiology project\n",
    "\n",
    "Synchronized neural oscillations are critical for normal brain function. In **Parkinson’s disease (PD)** models, exaggerated neuronal synchronization of beta oscillations has been observed after loss of dopaminergic neurons in deep sub-cortical nuclei called the basal ganglia. One of these nuclei, **the globus pallidus (GP)**, might be responsible for this abnormal synchronization and can be regarded as a promising therapeutic target.\n",
    "\n",
    "In this project, you will **analyse electrophysiological recordings from a rat model of PD**.\n",
    "\n",
    "The goal of the project is to characterize the **synchrony between the cortical EEG and the neuronal activity** of neurons of the GB. The neuronal activity and EEG of **healthy and PD model rats** have been recorded in **two different anaesthesia states: the slow-wave and activated state**, which differ in the brain oscillations expressed.\n",
    "\n",
    "To highlight the synchrony between neuronal firing and EEG, you will rely on *coherence analysis* of the various recorded neurons in the GP and the cortical EEG. You will also show that GP neurons display *heterogeneity in their firing patterns* and *synchrony to EEG* in the slow-wave and activated states.\n",
    "\n",
    "The project will reproduce partially the results shown in Fig. 1 of this paper: \\\n",
    "Mallet, N., Micklem, B. R., Henny, P., Brown, M. T., Williams, C., Bolam, J. P., Nakamura, K. C., & Magill, P. J. (2012). Dichotomous organization of the external globus pallidus. *Neuron*, 74(6), 1075–1086. \\\n",
    "https://doi.org/10.1016/j.neuron.2012.04.027\n",
    "\n",
    "Delta Waves (0.5-4 Hz): Typically seen during deep sleep, delta waves are slow and high-amplitude. \\\n",
    "Theta Waves (4-7 Hz): Associated with drowsiness, meditation, and internal focus, theta waves are slower and higher-amplitude than alpha waves.\\\n",
    "Alpha Waves (8-12 Hz): Characteristic of a relaxed, closed-eyes state, alpha waves are the most commonly studied and easiest to identify.\\\n",
    "Sigma Waves (12-16 Hz): Less well-studied, sigma waves are thought to be involved in sensory processing and attention.\\\n",
    "Beta Waves (13-30 Hz): Fast and high-amplitude, beta waves are associated with active thinking, problem-solving, and motor activity.\n"
   ]
  },
  {
   "cell_type": "code",
   "execution_count": 2,
   "id": "4b729a1a",
   "metadata": {},
   "outputs": [],
   "source": [
    "import numpy as np\n",
    "import scipy\n",
    "import scipy.signal \n",
    "import h5py\n",
    "import matplotlib.pyplot as plt"
   ]
  },
  {
   "cell_type": "code",
   "execution_count": null,
   "id": "bec226c5",
   "metadata": {},
   "outputs": [],
   "source": [
    "# Load the data in a dictionnary\n",
    "data={'ActivPark': h5py.File('L23_f09_as_PARK.mat','r'), \n",
    "      'SWAPark': h5py.File('L23_f03_swa_PARK.mat','r'), \n",
    "     'ActivCtl': h5py.File('A9_c05_as_CTL.mat','r'), \n",
    "     'SWACtl': h5py.File('A9_c01_swa_CTL.mat','r')}\n",
    "\n",
    "# Look at the variable names in each data file\n",
    "for key,value in data.items():\n",
    "    print(key)\n",
    "    print(data[key].keys())"
   ]
  },
  {
   "cell_type": "code",
   "execution_count": null,
   "id": "73bd77ed",
   "metadata": {},
   "outputs": [],
   "source": [
    "# Look up one variable in a specific dataset\n",
    "dict(data['SWAPark']['L23_Pr20_c09'])"
   ]
  },
  {
   "cell_type": "code",
   "execution_count": null,
   "id": "12807aaf",
   "metadata": {},
   "outputs": [],
   "source": [
    "# Load the EEG data from the parkinsonian animal in 'slow-wave state'\n",
    "EEG=data['SWAPark']['L23_EEGipsi']\n",
    "dict(EEG)"
   ]
  },
  {
   "cell_type": "code",
   "execution_count": null,
   "id": "3ac270c6",
   "metadata": {},
   "outputs": [],
   "source": [
    "# Find the number of sampling points in EEG trace (EEG[values])\n"
   ]
  },
  {
   "cell_type": "code",
   "execution_count": null,
   "id": "dd4177c5",
   "metadata": {},
   "outputs": [],
   "source": [
    "# Find the duration of the recording as number of points time sampling interval (EEG[interval])\n"
   ]
  },
  {
   "cell_type": "code",
   "execution_count": null,
   "id": "477f0a14",
   "metadata": {},
   "outputs": [],
   "source": [
    "# Plot the first 5 seconds of this EEG\n",
    "\n"
   ]
  },
  {
   "cell_type": "code",
   "execution_count": null,
   "id": "a7ac1f5e",
   "metadata": {},
   "outputs": [],
   "source": [
    "# Compute the spectral power density histogram (spectrum) of the EEG trace using scipy.signal.welch\n"
   ]
  },
  {
   "cell_type": "code",
   "execution_count": null,
   "id": "8203fbb8",
   "metadata": {},
   "outputs": [],
   "source": [
    "# Build a band pass filter with [0.5 1.5] Hz band for EEG using scipy.signal.butter\n"
   ]
  },
  {
   "cell_type": "code",
   "execution_count": null,
   "id": "29ea3f6b",
   "metadata": {},
   "outputs": [],
   "source": [
    "# Filter EEG with scipy.signal.filtfilt using the filter built in previous cell, and plot first 5 s of filtered EEG\n"
   ]
  },
  {
   "cell_type": "code",
   "execution_count": null,
   "id": "66cee98f",
   "metadata": {},
   "outputs": [],
   "source": [
    "# Load one spike train from the SWAPark file\n",
    "ST1=data['SWAPark']['L23_Pr20_c09']\n",
    "ST1_times=ST1['times'][0]\n",
    "print(len(ST1_times))"
   ]
  },
  {
   "cell_type": "code",
   "execution_count": null,
   "id": "612d83d9",
   "metadata": {},
   "outputs": [],
   "source": [
    "# Compute the instantaneous firing rate (IFR) of the spike train in bins of 1 ms using the function np.histogram\n"
   ]
  },
  {
   "cell_type": "code",
   "execution_count": null,
   "id": "81c9e57c",
   "metadata": {},
   "outputs": [],
   "source": [
    "# Compute the coherence of the IFR with the EEG\n",
    "\n",
    "\n",
    "# Plot a vertical line at maximal coherence and get the corresponding frequency using the function plt.axvline\n",
    "\n"
   ]
  },
  {
   "cell_type": "code",
   "execution_count": null,
   "id": "c1073d0e",
   "metadata": {},
   "outputs": [],
   "source": [
    "# Compute the phase of the IFR compared to the EEG, at the frequency of max coherence, using the csd() function from scipy.signal\n",
    "\n"
   ]
  },
  {
   "cell_type": "code",
   "execution_count": null,
   "id": "a4d33b30",
   "metadata": {},
   "outputs": [],
   "source": [
    "# Repeat the procedure (previous 3 cells) for all spike trains recorded in this file (SWAPark)\n",
    "\n",
    "\n",
    "\n",
    "# Plot the mean firing rate of the neurons vs the value of the phase\n",
    "\n"
   ]
  },
  {
   "cell_type": "code",
   "execution_count": null,
   "id": "a60c0bd0",
   "metadata": {},
   "outputs": [],
   "source": [
    "# Let's now look at all 4 files too: ActivPark, SWAPark, ActivCtl, SWACtl\n",
    "# Repeat the initial steps (cells 5-7) for the EEG traces of the new files \n",
    "\n",
    "\n",
    "\n",
    "# Compute the spectral power density histogram (spectrum) of all 4 EEG traces\n",
    "\n",
    "\n",
    "\n"
   ]
  },
  {
   "cell_type": "code",
   "execution_count": null,
   "id": "13f8d5d4",
   "metadata": {},
   "outputs": [],
   "source": [
    "# Compute the IFRs of the spike trains in ActivPark condition\n"
   ]
  },
  {
   "cell_type": "code",
   "execution_count": null,
   "id": "3930bdd5",
   "metadata": {},
   "outputs": [],
   "source": [
    "# Compute the coherence of each IFR with the EEG\n",
    "\n"
   ]
  },
  {
   "cell_type": "code",
   "execution_count": null,
   "id": "a864ff97",
   "metadata": {},
   "outputs": [],
   "source": [
    "# Compute the phase of each IFR compared to the EEG, at the frequency of the peak of the EEG spectum in the Beta range\n",
    "\n",
    "\n"
   ]
  },
  {
   "cell_type": "code",
   "execution_count": null,
   "id": "610dfc38",
   "metadata": {},
   "outputs": [],
   "source": [
    "# Plot the distribution of the phases\n",
    "\n"
   ]
  },
  {
   "cell_type": "code",
   "execution_count": null,
   "id": "24d6b7ac",
   "metadata": {},
   "outputs": [],
   "source": [
    "# Plot the phases of the IFRs compared to EEG from the slow-wave vs. the active dataset\n",
    "\n"
   ]
  },
  {
   "cell_type": "code",
   "execution_count": null,
   "id": "f93964f0",
   "metadata": {},
   "outputs": [],
   "source": [
    "# Take two IFRs from the active park dataset and plot their cross-correlogram, for delays from -250ms to +250ms\n",
    "\n"
   ]
  },
  {
   "cell_type": "code",
   "execution_count": null,
   "id": "e028d57a",
   "metadata": {},
   "outputs": [],
   "source": [
    "# Smooth the obtained crosscorrelogram \n",
    "# and plot for delays from -50ms to +50ms\n",
    "\n"
   ]
  },
  {
   "cell_type": "code",
   "execution_count": null,
   "id": "d76bcc40",
   "metadata": {},
   "outputs": [],
   "source": [
    "# Repeat the same procedure (previous 2 cells) for all pairs of IFRs from the same dataset\n",
    "\n"
   ]
  }
 ],
 "metadata": {
  "kernelspec": {
   "display_name": "base",
   "language": "python",
   "name": "python3"
  },
  "language_info": {
   "codemirror_mode": {
    "name": "ipython",
    "version": 3
   },
   "file_extension": ".py",
   "mimetype": "text/x-python",
   "name": "python",
   "nbconvert_exporter": "python",
   "pygments_lexer": "ipython3",
   "version": "3.13.5"
  }
 },
 "nbformat": 4,
 "nbformat_minor": 5
}
